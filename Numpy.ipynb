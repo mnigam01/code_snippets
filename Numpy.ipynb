{
 "cells": [
  {
   "cell_type": "code",
   "execution_count": 1,
   "metadata": {},
   "outputs": [],
   "source": [
    "import numpy as np"
   ]
  },
  {
   "cell_type": "code",
   "execution_count": 2,
   "metadata": {},
   "outputs": [],
   "source": [
    "# %pip install notebook numpy"
   ]
  },
  {
   "cell_type": "code",
   "execution_count": 3,
   "metadata": {},
   "outputs": [
    {
     "data": {
      "text/plain": [
       "'2.1.3'"
      ]
     },
     "execution_count": 3,
     "metadata": {},
     "output_type": "execute_result"
    }
   ],
   "source": [
    "np.__version__"
   ]
  },
  {
   "cell_type": "code",
   "execution_count": null,
   "metadata": {},
   "outputs": [
    {
     "data": {
      "text/plain": [
       "array([1, 2, 3])"
      ]
     },
     "execution_count": 18,
     "metadata": {},
     "output_type": "execute_result"
    }
   ],
   "source": [
    "np.array([1, 2, 3])\n",
    "np.array([1, 2, 3], dtype=np.int32)\n",
    "np.array([1, 2, 3], dtype=np.float32)\n",
    "np.array([1, 2, 3], dtype=np.float64)\n",
    "np.array([1, 2, 3], dtype=np.int64)\n",
    "np.array([1, 2, 3], dtype=np.uint8)\n",
    "np.array([1, 2, 3], dtype=np.uint16)\n",
    "np.array([1, 2, 3], dtype=np.uint32)\n",
    "np.array([1, 2, 3], dtype=np.uint64)\n",
    "np.array([1, 2, 3], dtype=np.bool)\n",
    "np.array([1, 2, 3], dtype=np.complex64)\n",
    "np.array([1, 2, 3], dtype=np.complex128)"
   ]
  },
  {
   "cell_type": "code",
   "execution_count": 19,
   "metadata": {},
   "outputs": [
    {
     "data": {
      "text/plain": [
       "numpy.ndarray"
      ]
     },
     "execution_count": 19,
     "metadata": {},
     "output_type": "execute_result"
    }
   ],
   "source": [
    "arr = np.array([1, 2, 3])\n",
    "type(arr)"
   ]
  },
  {
   "cell_type": "code",
   "execution_count": 20,
   "metadata": {},
   "outputs": [
    {
     "data": {
      "text/plain": [
       "dtype('int64')"
      ]
     },
     "execution_count": 20,
     "metadata": {},
     "output_type": "execute_result"
    }
   ],
   "source": [
    "arr.dtype"
   ]
  },
  {
   "cell_type": "code",
   "execution_count": 21,
   "metadata": {},
   "outputs": [
    {
     "data": {
      "text/plain": [
       "dtype('float64')"
      ]
     },
     "execution_count": 21,
     "metadata": {},
     "output_type": "execute_result"
    }
   ],
   "source": [
    "arr = np.array([1, 2.4, 3])\n",
    "type(arr)\n",
    "arr.dtype"
   ]
  },
  {
   "cell_type": "code",
   "execution_count": 22,
   "metadata": {},
   "outputs": [
    {
     "data": {
      "text/plain": [
       "dtype('int32')"
      ]
     },
     "execution_count": 22,
     "metadata": {},
     "output_type": "execute_result"
    }
   ],
   "source": [
    "arr = np.array([1, 2.4, 3], dtype=np.int32)\n",
    "type(arr)\n",
    "arr.dtype"
   ]
  },
  {
   "cell_type": "code",
   "execution_count": null,
   "metadata": {},
   "outputs": [
    {
     "data": {
      "text/plain": [
       "array([1, 2, 3], dtype=int32)"
      ]
     },
     "execution_count": 23,
     "metadata": {},
     "output_type": "execute_result"
    }
   ],
   "source": [
    "arr"
   ]
  },
  {
   "cell_type": "code",
   "execution_count": 24,
   "metadata": {},
   "outputs": [
    {
     "name": "stdout",
     "output_type": "stream",
     "text": [
      "['Apple' 'Banana' 'Orange' 'Mango']\n"
     ]
    }
   ],
   "source": [
    "arr = np.array([\"Apple\", \"Banana\", \"Orange\", \"Mango\"])\n",
    "print(arr)"
   ]
  },
  {
   "cell_type": "code",
   "execution_count": 25,
   "metadata": {},
   "outputs": [
    {
     "name": "stdout",
     "output_type": "stream",
     "text": [
      "['Apple' 'Banana' 'Orange' 'Mango' '3.4']\n"
     ]
    }
   ],
   "source": [
    "arr = np.array([\"Apple\", \"Banana\", \"Orange\", \"Mango\",3.4])\n",
    "print(arr)"
   ]
  },
  {
   "cell_type": "markdown",
   "metadata": {},
   "source": [
    "type of numpy array all element is same"
   ]
  },
  {
   "cell_type": "code",
   "execution_count": 26,
   "metadata": {},
   "outputs": [
    {
     "name": "stdout",
     "output_type": "stream",
     "text": [
      "<U3\n"
     ]
    },
    {
     "data": {
      "text/plain": [
       "array(['1', '2.4', '3'], dtype='<U3')"
      ]
     },
     "execution_count": 26,
     "metadata": {},
     "output_type": "execute_result"
    }
   ],
   "source": [
    "arr = np.array([1, 2.4, 3], dtype=str)\n",
    "type(arr)\n",
    "print(arr.dtype)\n",
    "arr"
   ]
  },
  {
   "cell_type": "code",
   "execution_count": 27,
   "metadata": {},
   "outputs": [
    {
     "name": "stdout",
     "output_type": "stream",
     "text": [
      "3\n",
      "(3,)\n",
      "1\n"
     ]
    }
   ],
   "source": [
    "print(arr.size)\n",
    "print(arr.shape)\n",
    "print(arr.ndim)"
   ]
  },
  {
   "cell_type": "code",
   "execution_count": 28,
   "metadata": {},
   "outputs": [
    {
     "data": {
      "text/plain": [
       "array([[0, 0, 0, 0, 0],\n",
       "       [0, 0, 0, 0, 0],\n",
       "       [0, 0, 0, 0, 0],\n",
       "       [0, 0, 0, 0, 0],\n",
       "       [0, 0, 0, 0, 0]])"
      ]
     },
     "execution_count": 28,
     "metadata": {},
     "output_type": "execute_result"
    }
   ],
   "source": [
    "np.zeros(5, dtype=float)\n",
    "np.zeros((5, 5), dtype=int)"
   ]
  },
  {
   "cell_type": "code",
   "execution_count": 29,
   "metadata": {},
   "outputs": [
    {
     "data": {
      "text/plain": [
       "array([[[0., 0., 0., 0.],\n",
       "        [0., 0., 0., 0.],\n",
       "        [0., 0., 0., 0.]],\n",
       "\n",
       "       [[0., 0., 0., 0.],\n",
       "        [0., 0., 0., 0.],\n",
       "        [0., 0., 0., 0.]]])"
      ]
     },
     "execution_count": 29,
     "metadata": {},
     "output_type": "execute_result"
    }
   ],
   "source": [
    "np.zeros((2,3,4))"
   ]
  },
  {
   "cell_type": "code",
   "execution_count": 30,
   "metadata": {},
   "outputs": [],
   "source": [
    "arr = np.zeros((3,4))"
   ]
  },
  {
   "cell_type": "code",
   "execution_count": 31,
   "metadata": {},
   "outputs": [
    {
     "ename": "ValueError",
     "evalue": "could not broadcast input array from shape (3,) into shape (4,)",
     "output_type": "error",
     "traceback": [
      "\u001b[0;31m---------------------------------------------------------------------------\u001b[0m",
      "\u001b[0;31mValueError\u001b[0m                                Traceback (most recent call last)",
      "Cell \u001b[0;32mIn[31], line 1\u001b[0m\n\u001b[0;32m----> 1\u001b[0m \u001b[43marr\u001b[49m\u001b[43m[\u001b[49m\u001b[38;5;241;43m0\u001b[39;49m\u001b[43m]\u001b[49m \u001b[38;5;241m=\u001b[39m [\u001b[38;5;241m1\u001b[39m, \u001b[38;5;241m2\u001b[39m, \u001b[38;5;241m3\u001b[39m]\n",
      "\u001b[0;31mValueError\u001b[0m: could not broadcast input array from shape (3,) into shape (4,)"
     ]
    }
   ],
   "source": [
    "arr[0] = [1, 2, 3]"
   ]
  },
  {
   "cell_type": "code",
   "execution_count": 33,
   "metadata": {},
   "outputs": [
    {
     "data": {
      "text/plain": [
       "array([[1., 2., 3., 4.],\n",
       "       [0., 0., 0., 0.],\n",
       "       [0., 0., 0., 0.]])"
      ]
     },
     "execution_count": 33,
     "metadata": {},
     "output_type": "execute_result"
    }
   ],
   "source": [
    "arr[0] = [1, 2, 3, 4]\n",
    "arr"
   ]
  },
  {
   "cell_type": "code",
   "execution_count": 36,
   "metadata": {},
   "outputs": [
    {
     "data": {
      "text/plain": [
       "array([[  1.,   2.,  99.,   4.],\n",
       "       [  0.,   0., 100.,   0.],\n",
       "       [  0.,   0., 101.,   0.]])"
      ]
     },
     "execution_count": 36,
     "metadata": {},
     "output_type": "execute_result"
    }
   ],
   "source": [
    "arr[:,2] = [99, 100, 101]\n",
    "arr"
   ]
  },
  {
   "cell_type": "code",
   "execution_count": 37,
   "metadata": {},
   "outputs": [
    {
     "data": {
      "text/plain": [
       "array([[1, 1, 1, 1, 1],\n",
       "       [1, 1, 1, 1, 1],\n",
       "       [1, 1, 1, 1, 1],\n",
       "       [1, 1, 1, 1, 1],\n",
       "       [1, 1, 1, 1, 1]], dtype=int32)"
      ]
     },
     "execution_count": 37,
     "metadata": {},
     "output_type": "execute_result"
    }
   ],
   "source": [
    "np.ones(5)\n",
    "np.ones((5, 5))\n",
    "np.ones((5, 5), dtype=np.int32)"
   ]
  },
  {
   "cell_type": "code",
   "execution_count": 38,
   "metadata": {},
   "outputs": [
    {
     "data": {
      "text/plain": [
       "array([[1., 0., 0.],\n",
       "       [0., 1., 0.],\n",
       "       [0., 0., 1.]])"
      ]
     },
     "execution_count": 38,
     "metadata": {},
     "output_type": "execute_result"
    }
   ],
   "source": [
    "np.eye(3)"
   ]
  },
  {
   "cell_type": "code",
   "execution_count": 40,
   "metadata": {},
   "outputs": [
    {
     "data": {
      "text/plain": [
       "array([[1., 0., 0., 0.],\n",
       "       [0., 1., 0., 0.],\n",
       "       [0., 0., 1., 0.]])"
      ]
     },
     "execution_count": 40,
     "metadata": {},
     "output_type": "execute_result"
    }
   ],
   "source": [
    "np.eye(3,4)"
   ]
  },
  {
   "cell_type": "code",
   "execution_count": 41,
   "metadata": {},
   "outputs": [
    {
     "data": {
      "text/plain": [
       "array([[0., 1., 0., 0.],\n",
       "       [0., 0., 1., 0.],\n",
       "       [0., 0., 0., 1.]])"
      ]
     },
     "execution_count": 41,
     "metadata": {},
     "output_type": "execute_result"
    }
   ],
   "source": [
    "np.eye(3,4, k=1)"
   ]
  },
  {
   "cell_type": "code",
   "execution_count": 42,
   "metadata": {},
   "outputs": [
    {
     "data": {
      "text/plain": [
       "array([[0., 0., 0., 0.],\n",
       "       [1., 0., 0., 0.],\n",
       "       [0., 1., 0., 0.]])"
      ]
     },
     "execution_count": 42,
     "metadata": {},
     "output_type": "execute_result"
    }
   ],
   "source": [
    "np.eye(3,4, k=-1)"
   ]
  },
  {
   "cell_type": "code",
   "execution_count": 45,
   "metadata": {},
   "outputs": [
    {
     "data": {
      "text/plain": [
       "array([4, 4, 4])"
      ]
     },
     "execution_count": 45,
     "metadata": {},
     "output_type": "execute_result"
    }
   ],
   "source": [
    "np.full(3, 4)"
   ]
  },
  {
   "cell_type": "code",
   "execution_count": 47,
   "metadata": {},
   "outputs": [
    {
     "data": {
      "text/plain": [
       "array([[9.4, 9.4, 9.4, 9.4],\n",
       "       [9.4, 9.4, 9.4, 9.4],\n",
       "       [9.4, 9.4, 9.4, 9.4]])"
      ]
     },
     "execution_count": 47,
     "metadata": {},
     "output_type": "execute_result"
    }
   ],
   "source": [
    "np.full((3, 4), 9.4)"
   ]
  },
  {
   "cell_type": "code",
   "execution_count": 49,
   "metadata": {},
   "outputs": [
    {
     "data": {
      "text/plain": [
       "array([[9, 9, 9, 9],\n",
       "       [9, 9, 9, 9],\n",
       "       [9, 9, 9, 9]], dtype=int32)"
      ]
     },
     "execution_count": 49,
     "metadata": {},
     "output_type": "execute_result"
    }
   ],
   "source": [
    "np.full((3, 4), 9.4, dtype=np.int32)"
   ]
  },
  {
   "cell_type": "code",
   "execution_count": 50,
   "metadata": {},
   "outputs": [
    {
     "data": {
      "text/plain": [
       "array([1, 2, 3, 4, 5, 6, 7, 8, 9])"
      ]
     },
     "execution_count": 50,
     "metadata": {},
     "output_type": "execute_result"
    }
   ],
   "source": [
    "np.arange(1,10)"
   ]
  },
  {
   "cell_type": "code",
   "execution_count": 51,
   "metadata": {},
   "outputs": [
    {
     "data": {
      "text/plain": [
       "array([1, 4, 7])"
      ]
     },
     "execution_count": 51,
     "metadata": {},
     "output_type": "execute_result"
    }
   ],
   "source": [
    "np.arange(1,10,3)"
   ]
  },
  {
   "cell_type": "code",
   "execution_count": 52,
   "metadata": {},
   "outputs": [
    {
     "data": {
      "text/plain": [
       "array([1. , 1.7, 2.4, 3.1, 3.8, 4.5, 5.2, 5.9, 6.6, 7.3, 8. , 8.7, 9.4])"
      ]
     },
     "execution_count": 52,
     "metadata": {},
     "output_type": "execute_result"
    }
   ],
   "source": [
    "np.arange(1,10,0.7)"
   ]
  },
  {
   "cell_type": "code",
   "execution_count": 53,
   "metadata": {},
   "outputs": [
    {
     "data": {
      "text/plain": [
       "array([ 1.,  4.,  7., 10.])"
      ]
     },
     "execution_count": 53,
     "metadata": {},
     "output_type": "execute_result"
    }
   ],
   "source": [
    "np.arange(1,10.2,3)"
   ]
  },
  {
   "cell_type": "code",
   "execution_count": 54,
   "metadata": {},
   "outputs": [
    {
     "data": {
      "text/plain": [
       "array([1., 4., 7.])"
      ]
     },
     "execution_count": 54,
     "metadata": {},
     "output_type": "execute_result"
    }
   ],
   "source": [
    "np.arange(1,10,3, dtype=float)"
   ]
  },
  {
   "cell_type": "code",
   "execution_count": 56,
   "metadata": {},
   "outputs": [
    {
     "data": {
      "text/plain": [
       "array([ 0.  ,  1.25,  2.5 ,  3.75,  5.  ,  6.25,  7.5 ,  8.75, 10.  ])"
      ]
     },
     "execution_count": 56,
     "metadata": {},
     "output_type": "execute_result"
    }
   ],
   "source": [
    "np.linspace(0, 10, 9)"
   ]
  },
  {
   "cell_type": "code",
   "execution_count": 57,
   "metadata": {},
   "outputs": [
    {
     "data": {
      "text/plain": [
       "array([ 0.        ,  0.20408163,  0.40816327,  0.6122449 ,  0.81632653,\n",
       "        1.02040816,  1.2244898 ,  1.42857143,  1.63265306,  1.83673469,\n",
       "        2.04081633,  2.24489796,  2.44897959,  2.65306122,  2.85714286,\n",
       "        3.06122449,  3.26530612,  3.46938776,  3.67346939,  3.87755102,\n",
       "        4.08163265,  4.28571429,  4.48979592,  4.69387755,  4.89795918,\n",
       "        5.10204082,  5.30612245,  5.51020408,  5.71428571,  5.91836735,\n",
       "        6.12244898,  6.32653061,  6.53061224,  6.73469388,  6.93877551,\n",
       "        7.14285714,  7.34693878,  7.55102041,  7.75510204,  7.95918367,\n",
       "        8.16326531,  8.36734694,  8.57142857,  8.7755102 ,  8.97959184,\n",
       "        9.18367347,  9.3877551 ,  9.59183673,  9.79591837, 10.        ])"
      ]
     },
     "execution_count": 57,
     "metadata": {},
     "output_type": "execute_result"
    }
   ],
   "source": [
    "np.linspace(0, 10)"
   ]
  },
  {
   "cell_type": "code",
   "execution_count": null,
   "metadata": {},
   "outputs": [
    {
     "data": {
      "text/plain": [
       "(array([ 0.        ,  1.66666667,  3.33333333,  5.        ,  6.66666667,\n",
       "         8.33333333, 10.        ]),\n",
       " np.float64(1.6666666666666667))"
      ]
     },
     "execution_count": 58,
     "metadata": {},
     "output_type": "execute_result"
    }
   ],
   "source": [
    "np.linspace(0, 10, 7, retstep=True)"
   ]
  },
  {
   "cell_type": "code",
   "execution_count": 59,
   "metadata": {},
   "outputs": [
    {
     "data": {
      "text/plain": [
       "(array([ 0,  1,  3,  5,  6,  8, 10]), np.float64(1.6666666666666667))"
      ]
     },
     "execution_count": 59,
     "metadata": {},
     "output_type": "execute_result"
    }
   ],
   "source": [
    "np.linspace(0, 10, 7, retstep=True, dtype=int)"
   ]
  },
  {
   "cell_type": "code",
   "execution_count": null,
   "metadata": {},
   "outputs": [
    {
     "data": {
      "text/plain": [
       "array([[0.71650484, 0.2893288 , 0.76227012],\n",
       "       [0.20336478, 0.03430284, 0.55837574],\n",
       "       [0.01297648, 0.47783632, 0.22805423],\n",
       "       [0.46838805, 0.56784404, 0.90980825]])"
      ]
     },
     "execution_count": 60,
     "metadata": {},
     "output_type": "execute_result"
    }
   ],
   "source": [
    "np.random.rand(4)\n",
    "np.random.rand(4,3)  # 0 to 1 random values"
   ]
  },
  {
   "cell_type": "code",
   "execution_count": null,
   "metadata": {},
   "outputs": [
    {
     "data": {
      "text/plain": [
       "array([ 0.08866593, -0.08393628, -0.78141097])"
      ]
     },
     "execution_count": 61,
     "metadata": {},
     "output_type": "execute_result"
    }
   ],
   "source": [
    "np.random.randn(3)  "
   ]
  },
  {
   "cell_type": "code",
   "execution_count": 64,
   "metadata": {},
   "outputs": [
    {
     "data": {
      "text/plain": [
       "array([[-0.19604017,  1.71009547, -0.06808222,  0.98839844],\n",
       "       [ 0.08550983, -0.62711296, -0.02970962, -1.43210876],\n",
       "       [ 1.30881814, -0.32165027, -0.24284489,  0.61646036]])"
      ]
     },
     "execution_count": 64,
     "metadata": {},
     "output_type": "execute_result"
    }
   ],
   "source": [
    "np.random.randn(3,4)"
   ]
  },
  {
   "cell_type": "code",
   "execution_count": 65,
   "metadata": {},
   "outputs": [
    {
     "data": {
      "text/plain": [
       "array([1, 5, 3, 7])"
      ]
     },
     "execution_count": 65,
     "metadata": {},
     "output_type": "execute_result"
    }
   ],
   "source": [
    "np.random.randint(0, 10, 4)"
   ]
  },
  {
   "cell_type": "code",
   "execution_count": 66,
   "metadata": {},
   "outputs": [
    {
     "data": {
      "text/plain": [
       "array([[0, 0, 5, 4],\n",
       "       [2, 0, 2, 8]])"
      ]
     },
     "execution_count": 66,
     "metadata": {},
     "output_type": "execute_result"
    }
   ],
   "source": [
    "np.random.randint(0, 10, (2,4))"
   ]
  },
  {
   "cell_type": "code",
   "execution_count": 67,
   "metadata": {},
   "outputs": [
    {
     "data": {
      "text/plain": [
       "<bound method RandomState.normal of RandomState(MT19937) at 0x76D50212BD40>"
      ]
     },
     "execution_count": 67,
     "metadata": {},
     "output_type": "execute_result"
    }
   ],
   "source": [
    "np.random.uniform\n",
    "np.random.choice\n",
    "np.random.normal"
   ]
  },
  {
   "cell_type": "code",
   "execution_count": 68,
   "metadata": {},
   "outputs": [
    {
     "name": "stdout",
     "output_type": "stream",
     "text": [
      "[[1 2 3]\n",
      " [4 5 6]]\n"
     ]
    }
   ],
   "source": [
    "arr = np.array([[1, 2, 3], [4, 5, 6]])\n",
    "print(arr)"
   ]
  },
  {
   "cell_type": "code",
   "execution_count": 77,
   "metadata": {},
   "outputs": [
    {
     "data": {
      "text/plain": [
       "(6,)"
      ]
     },
     "execution_count": 77,
     "metadata": {},
     "output_type": "execute_result"
    }
   ],
   "source": [
    "arr2 = np.reshape(arr, (6, ))\n",
    "arr2.shape"
   ]
  },
  {
   "cell_type": "code",
   "execution_count": 78,
   "metadata": {},
   "outputs": [
    {
     "data": {
      "text/plain": [
       "1"
      ]
     },
     "execution_count": 78,
     "metadata": {},
     "output_type": "execute_result"
    }
   ],
   "source": [
    "arr2.ndim"
   ]
  },
  {
   "cell_type": "code",
   "execution_count": 79,
   "metadata": {},
   "outputs": [],
   "source": [
    "arr = np.random.randint(33, 3333, (9,8))"
   ]
  },
  {
   "cell_type": "code",
   "execution_count": 80,
   "metadata": {},
   "outputs": [
    {
     "data": {
      "text/plain": [
       "array([[ 325,  885,  798,  863, 2033,  629, 3130, 2456],\n",
       "       [2275, 1059,  365, 2543, 2231, 1949, 2442,  177],\n",
       "       [1101, 3180, 2161, 2425,  231, 2642, 2857, 2922],\n",
       "       [1228, 3026,  309, 2400,  525, 2291, 3095,  984],\n",
       "       [1960, 2794,  194, 1381, 2163, 3043, 1314,  505],\n",
       "       [3157,  992,  136, 2325, 1326, 3156,  988, 2845],\n",
       "       [2910, 1194,  286, 1984,  916, 2982, 1744, 3113],\n",
       "       [ 368, 2141, 2613, 2151, 2849,  106, 2187, 1137],\n",
       "       [ 887, 1954, 2487, 2331,  511, 3241, 1844,  293]])"
      ]
     },
     "execution_count": 80,
     "metadata": {},
     "output_type": "execute_result"
    }
   ],
   "source": [
    "arr"
   ]
  },
  {
   "cell_type": "code",
   "execution_count": 81,
   "metadata": {},
   "outputs": [
    {
     "data": {
      "text/plain": [
       "np.int64(3241)"
      ]
     },
     "execution_count": 81,
     "metadata": {},
     "output_type": "execute_result"
    }
   ],
   "source": [
    "np.max(arr)"
   ]
  },
  {
   "cell_type": "code",
   "execution_count": 82,
   "metadata": {},
   "outputs": [
    {
     "data": {
      "text/plain": [
       "array([3130, 2543, 3180, 3095, 3043, 3157, 3113, 2849, 3241])"
      ]
     },
     "execution_count": 82,
     "metadata": {},
     "output_type": "execute_result"
    }
   ],
   "source": [
    "np.max(arr, axis=1)"
   ]
  },
  {
   "cell_type": "code",
   "execution_count": 83,
   "metadata": {},
   "outputs": [
    {
     "data": {
      "text/plain": [
       "np.int64(69)"
      ]
     },
     "execution_count": 83,
     "metadata": {},
     "output_type": "execute_result"
    }
   ],
   "source": [
    "np.argmax(arr)"
   ]
  },
  {
   "cell_type": "code",
   "execution_count": null,
   "metadata": {},
   "outputs": [
    {
     "data": {
      "text/plain": [
       "array([6, 3, 1, 6, 5, 0, 7, 4, 5])"
      ]
     },
     "execution_count": 84,
     "metadata": {},
     "output_type": "execute_result"
    }
   ],
   "source": [
    "np.argmax(arr, axis=1)  # Find the index of the maximum value along the specified axis."
   ]
  },
  {
   "cell_type": "code",
   "execution_count": 86,
   "metadata": {},
   "outputs": [],
   "source": [
    "arr1 = np.random.randint(0,10, (2,3))\n",
    "arr2 = np.random.randint(0,10, (2,3))\n"
   ]
  },
  {
   "cell_type": "code",
   "execution_count": 87,
   "metadata": {},
   "outputs": [
    {
     "data": {
      "text/plain": [
       "array([[7, 0, 9],\n",
       "       [3, 2, 7],\n",
       "       [9, 2, 8],\n",
       "       [8, 3, 3]])"
      ]
     },
     "execution_count": 87,
     "metadata": {},
     "output_type": "execute_result"
    }
   ],
   "source": [
    "np.concatenate([arr1, arr2])"
   ]
  },
  {
   "cell_type": "code",
   "execution_count": 88,
   "metadata": {},
   "outputs": [
    {
     "data": {
      "text/plain": [
       "array([[7, 0, 9, 9, 2, 8],\n",
       "       [3, 2, 7, 8, 3, 3]])"
      ]
     },
     "execution_count": 88,
     "metadata": {},
     "output_type": "execute_result"
    }
   ],
   "source": [
    "np.concatenate([arr1, arr2], axis=1)"
   ]
  },
  {
   "cell_type": "code",
   "execution_count": 90,
   "metadata": {},
   "outputs": [
    {
     "data": {
      "text/plain": [
       "array([[7, 0, 9],\n",
       "       [3, 2, 7]])"
      ]
     },
     "execution_count": 90,
     "metadata": {},
     "output_type": "execute_result"
    }
   ],
   "source": [
    "arr1"
   ]
  },
  {
   "cell_type": "code",
   "execution_count": 89,
   "metadata": {},
   "outputs": [
    {
     "data": {
      "text/plain": [
       "array([[0, 7, 9],\n",
       "       [2, 3, 7]])"
      ]
     },
     "execution_count": 89,
     "metadata": {},
     "output_type": "execute_result"
    }
   ],
   "source": [
    "np.sort(arr1)"
   ]
  },
  {
   "cell_type": "code",
   "execution_count": 93,
   "metadata": {},
   "outputs": [
    {
     "data": {
      "text/plain": [
       "array([[3, 0, 7],\n",
       "       [7, 2, 9]])"
      ]
     },
     "execution_count": 93,
     "metadata": {},
     "output_type": "execute_result"
    }
   ],
   "source": [
    "np.sort(arr1, axis=0)"
   ]
  },
  {
   "cell_type": "code",
   "execution_count": 94,
   "metadata": {},
   "outputs": [],
   "source": [
    "arr = np.random.rand(7, 8)"
   ]
  },
  {
   "cell_type": "code",
   "execution_count": 95,
   "metadata": {},
   "outputs": [
    {
     "data": {
      "text/plain": [
       "array([[0.25968389, 0.37119732, 0.02132657, 0.22214175, 0.8303244 ,\n",
       "        0.20871942, 0.42984958, 0.79463182],\n",
       "       [0.51164716, 0.10530602, 0.46011004, 0.08496996, 0.94239652,\n",
       "        0.74143503, 0.10279543, 0.10200721],\n",
       "       [0.79317505, 0.61023552, 0.72174345, 0.76774662, 0.96588262,\n",
       "        0.10047359, 0.52355119, 0.78046983],\n",
       "       [0.87608084, 0.45979561, 0.8364668 , 0.34709554, 0.62560868,\n",
       "        0.54055357, 0.02442337, 0.76595161],\n",
       "       [0.32702518, 0.96953283, 0.9340739 , 0.78254996, 0.04380087,\n",
       "        0.51148093, 0.42143122, 0.5837366 ],\n",
       "       [0.61321022, 0.36325309, 0.63979683, 0.07342094, 0.53926102,\n",
       "        0.8450675 , 0.94874704, 0.40565127],\n",
       "       [0.98598537, 0.74894477, 0.7958274 , 0.60392707, 0.76821981,\n",
       "        0.65438121, 0.53404315, 0.36477998]])"
      ]
     },
     "execution_count": 95,
     "metadata": {},
     "output_type": "execute_result"
    }
   ],
   "source": [
    "arr"
   ]
  },
  {
   "cell_type": "code",
   "execution_count": 97,
   "metadata": {},
   "outputs": [
    {
     "data": {
      "text/plain": [
       "array([[0.46011004, 0.08496996, 0.94239652, 0.74143503, 0.10279543],\n",
       "       [0.72174345, 0.76774662, 0.96588262, 0.10047359, 0.52355119],\n",
       "       [0.8364668 , 0.34709554, 0.62560868, 0.54055357, 0.02442337],\n",
       "       [0.9340739 , 0.78254996, 0.04380087, 0.51148093, 0.42143122]])"
      ]
     },
     "execution_count": 97,
     "metadata": {},
     "output_type": "execute_result"
    }
   ],
   "source": [
    "arr[1:5,2:7]"
   ]
  },
  {
   "cell_type": "code",
   "execution_count": 99,
   "metadata": {},
   "outputs": [
    {
     "data": {
      "text/plain": [
       "array([[0.46011004, 0.94239652, 0.10279543],\n",
       "       [0.9340739 , 0.04380087, 0.42143122]])"
      ]
     },
     "execution_count": 99,
     "metadata": {},
     "output_type": "execute_result"
    }
   ],
   "source": [
    "arr[1:5:3,2:7:2]"
   ]
  },
  {
   "cell_type": "code",
   "execution_count": 100,
   "metadata": {},
   "outputs": [
    {
     "data": {
      "text/plain": [
       "array([[0.25968389, 0.02132657, 0.8303244 , 0.42984958],\n",
       "       [0.87608084, 0.8364668 , 0.62560868, 0.02442337],\n",
       "       [0.98598537, 0.7958274 , 0.76821981, 0.53404315]])"
      ]
     },
     "execution_count": 100,
     "metadata": {},
     "output_type": "execute_result"
    }
   ],
   "source": [
    "arr[::3,::2]"
   ]
  },
  {
   "cell_type": "code",
   "execution_count": 102,
   "metadata": {},
   "outputs": [],
   "source": [
    "arr[1] = 1, 2, 3, 4, 5, 6, 7, 8"
   ]
  },
  {
   "cell_type": "code",
   "execution_count": 103,
   "metadata": {},
   "outputs": [
    {
     "data": {
      "text/plain": [
       "array([[0.25968389, 0.37119732, 0.02132657, 0.22214175, 0.8303244 ,\n",
       "        0.20871942, 0.42984958, 0.79463182],\n",
       "       [1.        , 2.        , 3.        , 4.        , 5.        ,\n",
       "        6.        , 7.        , 8.        ],\n",
       "       [0.79317505, 0.61023552, 0.72174345, 0.76774662, 0.96588262,\n",
       "        0.10047359, 0.52355119, 0.78046983],\n",
       "       [0.87608084, 0.45979561, 0.8364668 , 0.34709554, 0.62560868,\n",
       "        0.54055357, 0.02442337, 0.76595161],\n",
       "       [0.32702518, 0.96953283, 0.9340739 , 0.78254996, 0.04380087,\n",
       "        0.51148093, 0.42143122, 0.5837366 ],\n",
       "       [0.61321022, 0.36325309, 0.63979683, 0.07342094, 0.53926102,\n",
       "        0.8450675 , 0.94874704, 0.40565127],\n",
       "       [0.98598537, 0.74894477, 0.7958274 , 0.60392707, 0.76821981,\n",
       "        0.65438121, 0.53404315, 0.36477998]])"
      ]
     },
     "execution_count": 103,
     "metadata": {},
     "output_type": "execute_result"
    }
   ],
   "source": [
    "arr"
   ]
  },
  {
   "cell_type": "code",
   "execution_count": null,
   "metadata": {},
   "outputs": [
    {
     "ename": "IndexError",
     "evalue": "shape mismatch: indexing arrays could not be broadcast together with shapes (3,) (2,) ",
     "output_type": "error",
     "traceback": [
      "\u001b[0;31m---------------------------------------------------------------------------\u001b[0m",
      "\u001b[0;31mIndexError\u001b[0m                                Traceback (most recent call last)",
      "Cell \u001b[0;32mIn[116], line 1\u001b[0m\n\u001b[0;32m----> 1\u001b[0m \u001b[43marr\u001b[49m\u001b[43m[\u001b[49m\u001b[43m[\u001b[49m\u001b[38;5;241;43m1\u001b[39;49m\u001b[43m,\u001b[49m\u001b[43m \u001b[49m\u001b[38;5;241;43m2\u001b[39;49m\u001b[43m,\u001b[49m\u001b[43m \u001b[49m\u001b[38;5;241;43m5\u001b[39;49m\u001b[43m]\u001b[49m\u001b[43m,\u001b[49m\u001b[43m[\u001b[49m\u001b[38;5;241;43m0\u001b[39;49m\u001b[43m,\u001b[49m\u001b[38;5;241;43m5\u001b[39;49m\u001b[43m]\u001b[49m\u001b[43m]\u001b[49m\n",
      "\u001b[0;31mIndexError\u001b[0m: shape mismatch: indexing arrays could not be broadcast together with shapes (3,) (2,) "
     ]
    }
   ],
   "source": [
    "arr[[1, 2, 5],:]"
   ]
  },
  {
   "cell_type": "code",
   "execution_count": 117,
   "metadata": {},
   "outputs": [
    {
     "data": {
      "text/plain": [
       "array([[0.37119732, 0.02132657, 0.20871942],\n",
       "       [2.        , 3.        , 6.        ],\n",
       "       [0.61023552, 0.72174345, 0.10047359],\n",
       "       [0.45979561, 0.8364668 , 0.54055357],\n",
       "       [0.96953283, 0.9340739 , 0.51148093],\n",
       "       [0.36325309, 0.63979683, 0.8450675 ],\n",
       "       [0.74894477, 0.7958274 , 0.65438121]])"
      ]
     },
     "execution_count": 117,
     "metadata": {},
     "output_type": "execute_result"
    }
   ],
   "source": [
    "arr[:,[1, 2, 5]]"
   ]
  },
  {
   "cell_type": "code",
   "execution_count": 118,
   "metadata": {},
   "outputs": [
    {
     "data": {
      "text/plain": [
       "array([[ True,  True, False,  True,  True,  True,  True,  True],\n",
       "       [ True,  True,  True,  True,  True,  True,  True,  True],\n",
       "       [ True,  True,  True,  True,  True,  True,  True,  True],\n",
       "       [ True,  True,  True,  True,  True,  True, False,  True],\n",
       "       [ True,  True,  True,  True, False,  True,  True,  True],\n",
       "       [ True,  True,  True, False,  True,  True,  True,  True],\n",
       "       [ True,  True,  True,  True,  True,  True,  True,  True]])"
      ]
     },
     "execution_count": 118,
     "metadata": {},
     "output_type": "execute_result"
    }
   ],
   "source": [
    "arr>0.1"
   ]
  },
  {
   "cell_type": "code",
   "execution_count": null,
   "metadata": {},
   "outputs": [
    {
     "data": {
      "text/plain": [
       "array([0.25968389, 0.37119732, 0.22214175, 0.8303244 , 0.20871942,\n",
       "       0.42984958, 0.79463182, 0.79317505, 0.61023552, 0.72174345,\n",
       "       0.76774662, 0.10047359, 0.52355119, 0.78046983, 0.87608084,\n",
       "       0.45979561, 0.8364668 , 0.34709554, 0.62560868, 0.54055357,\n",
       "       0.76595161, 0.32702518, 0.78254996, 0.51148093, 0.42143122,\n",
       "       0.5837366 , 0.61321022, 0.36325309, 0.63979683, 0.53926102,\n",
       "       0.8450675 , 0.40565127, 0.74894477, 0.7958274 , 0.60392707,\n",
       "       0.76821981, 0.65438121, 0.53404315, 0.36477998])"
      ]
     },
     "execution_count": 124,
     "metadata": {},
     "output_type": "execute_result"
    }
   ],
   "source": [
    "arr[(arr>0.1) & (arr<0.9)]  # bracket is must also \"and, or is not allowed\""
   ]
  },
  {
   "cell_type": "code",
   "execution_count": 125,
   "metadata": {},
   "outputs": [
    {
     "data": {
      "text/plain": [
       "array([[2.33333333, 0.        , 3.        ],\n",
       "       [1.        , 0.66666667, 2.33333333]])"
      ]
     },
     "execution_count": 125,
     "metadata": {},
     "output_type": "execute_result"
    }
   ],
   "source": [
    "arr1 % arr2\n",
    "arr1 + arr2\n",
    "arr1 - arr2\n",
    "arr1 * arr2\n",
    "arr1 / arr2\n",
    "arr1 ** 3\n",
    "arr1 // arr2\n",
    "\n",
    "\n",
    "arr1 //3\n",
    "arr1 % 3\n",
    "arr1 + 3\n",
    "arr1 - 3\n",
    "arr1 * 3\n",
    "arr1 / 3\n",
    "\n"
   ]
  },
  {
   "cell_type": "code",
   "execution_count": 126,
   "metadata": {},
   "outputs": [
    {
     "data": {
      "text/plain": [
       "np.int64(28)"
      ]
     },
     "execution_count": 126,
     "metadata": {},
     "output_type": "execute_result"
    }
   ],
   "source": [
    "np.sum(arr1)"
   ]
  },
  {
   "cell_type": "code",
   "execution_count": 129,
   "metadata": {},
   "outputs": [
    {
     "data": {
      "text/plain": [
       "array([ 4.85516054,  5.52295914,  6.94923495,  6.79688188,  8.7730974 ,\n",
       "        8.86067623,  9.88204554, 11.69522111])"
      ]
     },
     "execution_count": 129,
     "metadata": {},
     "output_type": "execute_result"
    }
   ],
   "source": [
    "np.sum(arr, axis=0)"
   ]
  },
  {
   "cell_type": "code",
   "execution_count": null,
   "metadata": {},
   "outputs": [],
   "source": [
    "np.prod(arr)\n",
    "np.meand(arr)\n",
    "np.std(arr)\n",
    "np.var(arr)\n",
    "np.median(arr)\n",
    "np.min(arr)\n",
    "np.log(arr)\n",
    "np.cos(arr)\n",
    "np.sin(arr)\n",
    "np.exp(arr)\n",
    "np.sqrt(arr)"
   ]
  },
  {
   "cell_type": "code",
   "execution_count": 130,
   "metadata": {},
   "outputs": [
    {
     "name": "stdout",
     "output_type": "stream",
     "text": [
      "\u001b[0;31mCall signature:\u001b[0m  \u001b[0mnp\u001b[0m\u001b[0;34m.\u001b[0m\u001b[0msqrt\u001b[0m\u001b[0;34m(\u001b[0m\u001b[0;34m*\u001b[0m\u001b[0margs\u001b[0m\u001b[0;34m,\u001b[0m \u001b[0;34m**\u001b[0m\u001b[0mkwargs\u001b[0m\u001b[0;34m)\u001b[0m\u001b[0;34m\u001b[0m\u001b[0;34m\u001b[0m\u001b[0m\n",
      "\u001b[0;31mType:\u001b[0m            ufunc\n",
      "\u001b[0;31mString form:\u001b[0m     <ufunc 'sqrt'>\n",
      "\u001b[0;31mFile:\u001b[0m            ~/.local/lib/python3.10/site-packages/numpy/__init__.py\n",
      "\u001b[0;31mDocstring:\u001b[0m      \n",
      "sqrt(x, /, out=None, *, where=True, casting='same_kind', order='K', dtype=None, subok=True[, signature])\n",
      "\n",
      "Return the non-negative square-root of an array, element-wise.\n",
      "\n",
      "Parameters\n",
      "----------\n",
      "x : array_like\n",
      "    The values whose square-roots are required.\n",
      "out : ndarray, None, or tuple of ndarray and None, optional\n",
      "    A location into which the result is stored. If provided, it must have\n",
      "    a shape that the inputs broadcast to. If not provided or None,\n",
      "    a freshly-allocated array is returned. A tuple (possible only as a\n",
      "    keyword argument) must have length equal to the number of outputs.\n",
      "where : array_like, optional\n",
      "    This condition is broadcast over the input. At locations where the\n",
      "    condition is True, the `out` array will be set to the ufunc result.\n",
      "    Elsewhere, the `out` array will retain its original value.\n",
      "    Note that if an uninitialized `out` array is created via the default\n",
      "    ``out=None``, locations within it where the condition is False will\n",
      "    remain uninitialized.\n",
      "**kwargs\n",
      "    For other keyword-only arguments, see the\n",
      "    :ref:`ufunc docs <ufuncs.kwargs>`.\n",
      "\n",
      "Returns\n",
      "-------\n",
      "y : ndarray\n",
      "    An array of the same shape as `x`, containing the positive\n",
      "    square-root of each element in `x`.  If any element in `x` is\n",
      "    complex, a complex array is returned (and the square-roots of\n",
      "    negative reals are calculated).  If all of the elements in `x`\n",
      "    are real, so is `y`, with negative elements returning ``nan``.\n",
      "    If `out` was provided, `y` is a reference to it.\n",
      "    This is a scalar if `x` is a scalar.\n",
      "\n",
      "See Also\n",
      "--------\n",
      "emath.sqrt\n",
      "    A version which returns complex numbers when given negative reals.\n",
      "    Note that 0.0 and -0.0 are handled differently for complex inputs.\n",
      "\n",
      "Notes\n",
      "-----\n",
      "*sqrt* has--consistent with common convention--as its branch cut the\n",
      "real \"interval\" [`-inf`, 0), and is continuous from above on it.\n",
      "A branch cut is a curve in the complex plane across which a given\n",
      "complex function fails to be continuous.\n",
      "\n",
      "Examples\n",
      "--------\n",
      ">>> import numpy as np\n",
      ">>> np.sqrt([1,4,9])\n",
      "array([ 1.,  2.,  3.])\n",
      "\n",
      ">>> np.sqrt([4, -1, -3+4J])\n",
      "array([ 2.+0.j,  0.+1.j,  1.+2.j])\n",
      "\n",
      ">>> np.sqrt([4, -1, np.inf])\n",
      "array([ 2., nan, inf])\n",
      "\u001b[0;31mClass docstring:\u001b[0m\n",
      "Functions that operate element by element on whole arrays.\n",
      "\n",
      "To see the documentation for a specific ufunc, use `info`.  For\n",
      "example, ``np.info(np.sin)``.  Because ufuncs are written in C\n",
      "(for speed) and linked into Python with NumPy's ufunc facility,\n",
      "Python's help() function finds this page whenever help() is called\n",
      "on a ufunc.\n",
      "\n",
      "A detailed explanation of ufuncs can be found in the docs for :ref:`ufuncs`.\n",
      "\n",
      "**Calling ufuncs:** ``op(*x[, out], where=True, **kwargs)``\n",
      "\n",
      "Apply `op` to the arguments `*x` elementwise, broadcasting the arguments.\n",
      "\n",
      "The broadcasting rules are:\n",
      "\n",
      "* Dimensions of length 1 may be prepended to either array.\n",
      "* Arrays may be repeated along dimensions of length 1.\n",
      "\n",
      "Parameters\n",
      "----------\n",
      "*x : array_like\n",
      "    Input arrays.\n",
      "out : ndarray, None, or tuple of ndarray and None, optional\n",
      "    Alternate array object(s) in which to put the result; if provided, it\n",
      "    must have a shape that the inputs broadcast to. A tuple of arrays\n",
      "    (possible only as a keyword argument) must have length equal to the\n",
      "    number of outputs; use None for uninitialized outputs to be\n",
      "    allocated by the ufunc.\n",
      "where : array_like, optional\n",
      "    This condition is broadcast over the input. At locations where the\n",
      "    condition is True, the `out` array will be set to the ufunc result.\n",
      "    Elsewhere, the `out` array will retain its original value.\n",
      "    Note that if an uninitialized `out` array is created via the default\n",
      "    ``out=None``, locations within it where the condition is False will\n",
      "    remain uninitialized.\n",
      "**kwargs\n",
      "    For other keyword-only arguments, see the :ref:`ufunc docs <ufuncs.kwargs>`.\n",
      "\n",
      "Returns\n",
      "-------\n",
      "r : ndarray or tuple of ndarray\n",
      "    `r` will have the shape that the arrays in `x` broadcast to; if `out` is\n",
      "    provided, it will be returned. If not, `r` will be allocated and\n",
      "    may contain uninitialized values. If the function has more than one\n",
      "    output, then the result will be a tuple of arrays."
     ]
    }
   ],
   "source": [
    "np.sqrt?"
   ]
  },
  {
   "cell_type": "markdown",
   "metadata": {},
   "source": [
    "You're on the right track with the commands you've already explored! To cover the 20% of NumPy commands that are most commonly used in data science, here are additional essential commands and explanations to fill any gaps:\n",
    "\n",
    "---\n",
    "\n",
    "### Array Creation\n",
    "- **`np.empty(shape)`**: Creates an uninitialized array with a given shape. Useful for performance optimization when you will overwrite all values.\n",
    "- **`np.identity(n)`**: Creates an identity matrix of size `n x n`.\n",
    "\n",
    "---\n",
    "\n",
    "### Array Properties\n",
    "- **`arr.size`**: Total number of elements in the array (already covered but crucial).\n",
    "- **`arr.shape`**: Shape of the array (dimensions).\n",
    "- **`arr.ndim`**: Number of dimensions.\n",
    "- **`arr.itemsize`**: Size of each array element in bytes.\n",
    "- **`arr.nbytes`**: Total memory consumed by the array (in bytes).\n",
    "\n",
    "---\n",
    "\n",
    "### Statistical and Aggregate Functions\n",
    "- **`np.mean(arr, axis=None)`**: Mean value along a specified axis.\n",
    "- **`np.median(arr, axis=None)`**: Median value.\n",
    "- **`np.var(arr, axis=None)`**: Variance.\n",
    "- **`np.std(arr, axis=None)`**: Standard deviation.\n",
    "- **`np.cumsum(arr, axis=None)`**: Cumulative sum.\n",
    "- **`np.cumprod(arr, axis=None)`**: Cumulative product.\n",
    "- **`np.percentile(arr, q, axis=None)`**: Computes the `q`th percentile.\n",
    "\n",
    "---\n",
    "\n",
    "### Array Manipulation\n",
    "- **`np.hstack((arr1, arr2))`**: Stacks arrays horizontally.\n",
    "- **`np.vstack((arr1, arr2))`**: Stacks arrays vertically.\n",
    "- **`np.dstack((arr1, arr2))`**: Stacks arrays along a new third axis.\n",
    "- **`np.split(arr, sections, axis=0)`**: Splits an array into sections along an axis.\n",
    "- **`np.tile(arr, reps)`**: Repeats the array for the specified repetitions.\n",
    "\n",
    "---\n",
    "\n",
    "### Linear Algebra\n",
    "- **`np.dot(arr1, arr2)`**: Dot product of two arrays.\n",
    "- **`np.linalg.inv(arr)`**: Inverse of a square matrix.\n",
    "- **`np.linalg.det(arr)`**: Determinant of a square matrix.\n",
    "- **`np.linalg.eig(arr)`**: Eigenvalues and eigenvectors of a square matrix.\n",
    "- **`np.linalg.svd(arr)`**: Singular Value Decomposition.\n",
    "\n",
    "---\n",
    "\n",
    "### Boolean Indexing and Conditional Logic\n",
    "- **`np.where(condition, x, y)`**: Element-wise selection based on a condition.\n",
    "- **`np.any(arr, axis=None)`**: Checks if any elements are `True`.\n",
    "- **`np.all(arr, axis=None)`**: Checks if all elements are `True`.\n",
    "\n",
    "---\n",
    "\n",
    "### Advanced Random Sampling\n",
    "- **`np.random.seed(seed)`**: Sets the seed for reproducibility.\n",
    "- **`np.random.permutation(arr)`**: Randomly permutes elements or rows.\n",
    "- **`np.random.shuffle(arr)`**: Shuffles the array in place.\n",
    "- **`np.random.binomial(n, p, size)`**: Draws samples from a binomial distribution.\n",
    "\n",
    "---\n",
    "\n",
    "### Performance and Efficiency\n",
    "- **`np.vectorize(func)`**: Converts a function to work element-wise on arrays.\n",
    "- **`np.meshgrid(x, y)`**: Generates coordinate grids, useful for plotting.\n",
    "\n",
    "---\n",
    "\n",
    "### Array Comparison\n",
    "- **`np.array_equal(arr1, arr2)`**: Checks if two arrays are equal.\n",
    "- **`np.isclose(arr1, arr2, rtol, atol)`**: Checks if elements are approximately equal within tolerance.\n",
    "\n",
    "---\n",
    "\n",
    "This list builds on your current knowledge while adding practical commands used heavily in data science. Practice combining these functions to manipulate data effectively!"
   ]
  },
  {
   "cell_type": "markdown",
   "metadata": {},
   "source": [
    "Here’s an expanded list of NumPy commands that are extremely useful for data scientists, with additional categories to ensure comprehensive coverage:  \n",
    "\n",
    "---\n",
    "\n",
    "### Array Creation (Advanced)  \n",
    "- **`np.arange(start, stop, step)`**: Generates values in a range with a specific step (already covered, but crucial).  \n",
    "- **`np.linspace(start, stop, num)`**: Generates evenly spaced values between two numbers (already covered).  \n",
    "- **`np.geomspace(start, stop, num)`**: Generates evenly spaced values on a logarithmic scale.  \n",
    "- **`np.fromfunction(func, shape)`**: Creates an array using a function for each coordinate.  \n",
    "- **`np.fromiter(iterable, dtype)`**: Creates an array from an iterable object.  \n",
    "\n",
    "---\n",
    "\n",
    "### Array Indexing and Slicing  \n",
    "- **`np.take(arr, indices, axis)`**: Extracts specific elements based on indices.  \n",
    "- **`np.put(arr, indices, values)`**: Replaces specific elements based on indices.  \n",
    "- **`np.choose(choices, indices)`**: Constructs an array by picking values based on indices.  \n",
    "- **`np.extract(condition, arr)`**: Returns elements of `arr` that satisfy the condition.  \n",
    "\n",
    "---\n",
    "\n",
    "### Broadcasting and Tile Operations  \n",
    "- **`np.broadcast_to(arr, shape)`**: Broadcasts an array to a specified shape.  \n",
    "- **`np.expand_dims(arr, axis)`**: Adds an axis to the array.  \n",
    "- **`np.squeeze(arr, axis)`**: Removes axes of size 1.  \n",
    "- **`np.repeat(arr, repeats, axis)`**: Repeats elements of an array.  \n",
    "\n",
    "---\n",
    "\n",
    "### Matrix Operations  \n",
    "- **`np.outer(arr1, arr2)`**: Computes the outer product of two vectors.  \n",
    "- **`np.inner(arr1, arr2)`**: Computes the inner product of two vectors.  \n",
    "- **`np.linalg.matrix_rank(arr)`**: Computes the rank of a matrix.  \n",
    "- **`np.trace(arr)`**: Returns the sum of diagonal elements.  \n",
    "- **`np.linalg.solve(a, b)`**: Solves a linear system of equations.  \n",
    "\n",
    "---\n",
    "\n",
    "### Statistical and Probability Operations  \n",
    "- **`np.corrcoef(arr1, arr2)`**: Computes Pearson correlation coefficients.  \n",
    "- **`np.cov(arr1, arr2)`**: Computes the covariance matrix.  \n",
    "- **`np.histogram(arr, bins)`**: Computes the histogram of a dataset.  \n",
    "- **`np.bincount(arr)`**: Counts occurrences of integers in an array.  \n",
    "\n",
    "---\n",
    "\n",
    "### Sorting and Searching  \n",
    "- **`np.partition(arr, kth)`**: Partially sorts the array based on the kth element.  \n",
    "- **`np.searchsorted(arr, value)`**: Finds indices where elements should be inserted to maintain order.  \n",
    "- **`np.unique(arr, return_counts)`**: Finds unique elements and optionally returns their counts.  \n",
    "\n",
    "---\n",
    "\n",
    "### Advanced Random Operations  \n",
    "- **`np.random.normal(loc, scale, size)`**: Generates samples from a normal distribution.  \n",
    "- **`np.random.poisson(lam, size)`**: Generates samples from a Poisson distribution.  \n",
    "- **`np.random.choice(arr, size, replace, p)`**: Randomly selects elements from an array with probabilities.  \n",
    "- **`np.random.multivariate_normal(mean, cov, size)`**: Draws samples from a multivariate normal distribution.  \n",
    "\n",
    "---\n",
    "\n",
    "### Utility Functions  \n",
    "- **`np.clip(arr, a_min, a_max)`**: Limits values to a specified range.  \n",
    "- **`np.round(arr, decimals)`**: Rounds values to a specified number of decimal places.  \n",
    "- **`np.trunc(arr)`**: Truncates values (removes the fractional part).  \n",
    "- **`np.floor(arr)`**: Rounds values down.  \n",
    "- **`np.ceil(arr)`**: Rounds values up.  \n",
    "\n",
    "---\n",
    "\n",
    "### Logical Operations  \n",
    "- **`np.logical_and(arr1, arr2)`**: Element-wise logical AND.  \n",
    "- **`np.logical_or(arr1, arr2)`**: Element-wise logical OR.  \n",
    "- **`np.logical_not(arr)`**: Element-wise logical NOT.  \n",
    "- **`np.isin(arr, values)`**: Checks if elements are in a list of values.  \n",
    "\n",
    "---\n",
    "\n",
    "### Data Transformation and Shape Manipulation  \n",
    "- **`np.flip(arr, axis)`**: Reverses the order of elements along an axis.  \n",
    "- **`np.rot90(arr, k)`**: Rotates the array 90 degrees `k` times.  \n",
    "- **`np.transpose(arr)`**: Swaps the axes of an array.  \n",
    "- **`np.swapaxes(arr, axis1, axis2)`**: Interchanges two axes.  \n",
    "\n",
    "---\n",
    "\n",
    "### Handling Missing or Infinite Values  \n",
    "- **`np.isnan(arr)`**: Checks for `NaN` values.  \n",
    "- **`np.isinf(arr)`**: Checks for infinite values.  \n",
    "- **`np.nan_to_num(arr)`**: Replaces `NaN` and infinity with numerical values.  \n",
    "\n",
    "---\n",
    "\n",
    "### Performance and Debugging  \n",
    "- **`np.may_share_memory(arr1, arr2)`**: Checks if two arrays share memory.  \n",
    "- **`np.memmap()`**: Memory-maps a file for efficient large-array handling.  \n",
    "- **`np.set_printoptions()`**: Configures printing options for arrays.  \n",
    "\n",
    "---\n",
    "\n",
    "### Advanced Mathematical Operations  \n",
    "- **`np.cross(arr1, arr2)`**: Computes the cross product.  \n",
    "- **`np.tril(arr)`**: Extracts the lower triangular part of a matrix.  \n",
    "- **`np.triu(arr)`**: Extracts the upper triangular part of a matrix.  \n",
    "- **`np.hypot(x, y)`**: Computes the hypotenuse for two arrays.  \n",
    "\n",
    "---\n",
    "\n",
    "These commands, combined with those you already know, will ensure you're equipped with everything data scientists use frequently in NumPy for data manipulation, analysis, and preprocessing!"
   ]
  },
  {
   "cell_type": "markdown",
   "metadata": {},
   "source": [
    "Here’s a list of additional crucial NumPy commands for data scientists, including **`np.where`**:  \n",
    "\n",
    "---\n",
    "\n",
    "### **Selection & Conditional Logic**\n",
    "- **`np.where(condition, x, y)`**\n",
    "- **`np.select(condlist, choicelist, default=0)`**\n",
    "- **`np.choose(indices, choices)`**\n",
    "- **`np.extract(condition, arr)`**\n",
    "- **`np.nonzero(arr)`**\n",
    "\n",
    "---\n",
    "\n",
    "### **Array Manipulation**\n",
    "- **`np.reshape(arr, newshape)`**\n",
    "- **`np.transpose(arr)`**\n",
    "- **`np.swapaxes(arr, axis1, axis2)`**\n",
    "- **`np.expand_dims(arr, axis)`**\n",
    "- **`np.squeeze(arr, axis=None)`**\n",
    "- **`np.concatenate((arr1, arr2), axis)`**\n",
    "- **`np.stack((arr1, arr2), axis=0)`**\n",
    "- **`np.hstack((arr1, arr2))`**\n",
    "- **`np.vstack((arr1, arr2))`**\n",
    "- **`np.dstack((arr1, arr2))`**\n",
    "- **`np.split(arr, indices_or_sections, axis)`**\n",
    "- **`np.tile(arr, reps)`**\n",
    "- **`np.repeat(arr, repeats, axis)`**\n",
    "\n",
    "---\n",
    "\n",
    "### **Sorting & Searching**\n",
    "- **`np.sort(arr, axis=-1)`**\n",
    "- **`np.argsort(arr, axis=-1)`**\n",
    "- **`np.partition(arr, kth, axis=-1)`**\n",
    "- **`np.searchsorted(arr, values)`**\n",
    "- **`np.unique(arr, return_counts=False)`**\n",
    "- **`np.isin(arr, test_elements)`**\n",
    "\n",
    "---\n",
    "\n",
    "### **Statistics & Aggregation**\n",
    "- **`np.mean(arr, axis=None)`**\n",
    "- **`np.median(arr, axis=None)`**\n",
    "- **`np.std(arr, axis=None)`**\n",
    "- **`np.var(arr, axis=None)`**\n",
    "- **`np.sum(arr, axis=None)`**\n",
    "- **`np.prod(arr, axis=None)`**\n",
    "- **`np.cumsum(arr, axis=None)`**\n",
    "- **`np.cumprod(arr, axis=None)`**\n",
    "- **`np.percentile(arr, q, axis=None)`**\n",
    "- **`np.corrcoef(arr1, arr2)`**\n",
    "- **`np.cov(arr1, arr2)`**\n",
    "\n",
    "---\n",
    "\n",
    "### **Mathematical Operations**\n",
    "- **`np.add(arr1, arr2)`**\n",
    "- **`np.subtract(arr1, arr2)`**\n",
    "- **`np.multiply(arr1, arr2)`**\n",
    "- **`np.divide(arr1, arr2)`**\n",
    "- **`np.power(arr, exp)`**\n",
    "- **`np.sqrt(arr)`**\n",
    "- **`np.log(arr)`**\n",
    "- **`np.exp(arr)`**\n",
    "- **`np.sin(arr)`**\n",
    "- **`np.cos(arr)`**\n",
    "- **`np.tan(arr)`**\n",
    "\n",
    "---\n",
    "\n",
    "### **Random Sampling**\n",
    "- **`np.random.seed(seed)`**\n",
    "- **`np.random.rand(d0, d1, ..., dn)`**\n",
    "- **`np.random.randn(d0, d1, ..., dn)`**\n",
    "- **`np.random.randint(low, high, size)`**\n",
    "- **`np.random.choice(arr, size, replace, p)`**\n",
    "- **`np.random.uniform(low, high, size)`**\n",
    "- **`np.random.normal(loc, scale, size)`**\n",
    "\n",
    "---\n",
    "\n",
    "### **Linear Algebra**\n",
    "- **`np.dot(arr1, arr2)`**\n",
    "- **`np.matmul(arr1, arr2)`**\n",
    "- **`np.linalg.inv(arr)`**\n",
    "- **`np.linalg.det(arr)`**\n",
    "- **`np.linalg.eig(arr)`**\n",
    "- **`np.linalg.norm(arr)`**\n",
    "- **`np.linalg.svd(arr)`**\n",
    "\n",
    "---\n",
    "\n",
    "### **Utilities**\n",
    "- **`np.clip(arr, a_min, a_max)`**\n",
    "- **`np.isnan(arr)`**\n",
    "- **`np.isinf(arr)`**\n",
    "- **`np.nan_to_num(arr)`**\n",
    "- **`np.all(arr, axis=None)`**\n",
    "- **`np.any(arr, axis=None)`**\n",
    "\n",
    "This expanded list complements your learning and ensures you're aware of the most commonly used NumPy functions in data science!"
   ]
  },
  {
   "cell_type": "markdown",
   "metadata": {},
   "source": [
    "You've covered a wide range of NumPy commands that are commonly used in data science. However, there are a few additional commands and concepts that are frequently used and might be helpful to know:\n",
    "\n",
    "### Array Creation\n",
    "- **`np.fromfile(file, dtype)`**: Construct an array from data in a text or binary file.\n",
    "- **`np.loadtxt(fname, dtype)`**: Load data from a text file.\n",
    "- **`np.genfromtxt(fname, dtype)`**: Load data from a text file with missing values handled.\n",
    "\n",
    "### Array Manipulation\n",
    "- **`np.ravel(arr)`**: Flatten the array.\n",
    "- **`np.flatten(arr)`**: Return a copy of the array collapsed into one dimension.\n",
    "- **`np.atleast_1d(*arys)`**: Convert inputs to arrays with at least one dimension.\n",
    "- **`np.atleast_2d(*arys)`**: Convert inputs to arrays with at least two dimensions.\n",
    "- **`np.atleast_3d(*arys)`**: Convert inputs to arrays with at least three dimensions.\n",
    "\n",
    "### Broadcasting\n",
    "- **`np.broadcast_arrays(*arrays)`**: Broadcast any number of arrays against each other.\n",
    "- **`np.broadcast_to(array, shape)`**: Broadcast an array to a new shape.\n",
    "\n",
    "### Mathematical Operations\n",
    "- **`np.mod(arr1, arr2)`**: Return the element-wise remainder of division.\n",
    "- **`np.floor_divide(arr1, arr2)`**: Return the largest integer smaller or equal to the division of the inputs.\n",
    "- **`np.fmod(arr1, arr2)`**: Return the element-wise remainder of division.\n",
    "- **`np.gcd(arr1, arr2)`**: Return the greatest common divisor of the inputs.\n",
    "- **`np.lcm(arr1, arr2)`**: Return the least common multiple of the inputs.\n",
    "\n",
    "### Statistical Operations\n",
    "- **`np.quantile(arr, q, axis=None)`**: Compute the q-th quantile of the data along the specified axis.\n",
    "- **`np.nanmean(arr, axis=None)`**: Compute the arithmetic mean along the specified axis, ignoring NaNs.\n",
    "- **`np.nanstd(arr, axis=None)`**: Compute the standard deviation along the specified axis, ignoring NaNs.\n",
    "- **`np.nanvar(arr, axis=None)`**: Compute the variance along the specified axis, ignoring NaNs.\n",
    "\n",
    "### Sorting and Searching\n",
    "- **`np.lexsort(keys, axis=-1)`**: Perform an indirect sort using a sequence of keys.\n",
    "- **`np.msort(arr)`**: Return a copy of an array sorted along the first axis.\n",
    "\n",
    "### Linear Algebra\n",
    "- **`np.linalg.matrix_power(M, n)`**: Raise a square matrix to an integer power.\n",
    "- **`np.linalg.matrix_rank(M)`**: Return matrix rank of array using SVD method.\n",
    "- **`np.linalg.pinv(a)`**: Compute the (Moore-Penrose) pseudo-inverse of a matrix.\n",
    "\n",
    "### Random Sampling\n",
    "- **`np.random.logistic(loc, scale, size)`**: Draw samples from a logistic distribution.\n",
    "- **`np.random.exponential(scale, size)`**: Draw samples from an exponential distribution.\n",
    "- **`np.random.gamma(shape, scale, size)`**: Draw samples from a Gamma distribution.\n",
    "\n",
    "### Utility Functions\n",
    "- **`np.setdiff1d(arr1, arr2)`**: Find the set difference of two arrays.\n",
    "- **`np.intersect1d(arr1, arr2)`**: Find the intersection of two arrays.\n",
    "- **`np.union1d(arr1, arr2)`**: Find the union of two arrays.\n",
    "- **`np.in1d(arr1, arr2)`**: Test whether each element of a 1-D array is also present in a second array.\n",
    "\n",
    "### File I/O\n",
    "- **`np.save(file, array)`**: Save an array to a binary file in NumPy `.npy` format.\n",
    "- **`np.load(file)`**: Load an array from a `.npy` file.\n",
    "- **`np.savez(file, *args, **kwds)`**: Save several arrays into a single file in uncompressed `.npz` format.\n",
    "- **`np.savez_compressed(file, *args, **kwds)`**: Save several arrays into a single file in compressed `.npz` format.\n",
    "\n",
    "### Performance and Efficiency\n",
    "- **`np.einsum(subscripts, *operands)`**: Evaluates the Einstein summation convention on the operands.\n",
    "- **`np.frombuffer(buffer, dtype)`**: Interpret a buffer as a 1-dimensional array.\n",
    "\n",
    "### Advanced Mathematical Operations\n",
    "- **`np.gradient(f, *varargs)`**: Return the gradient of an N-dimensional array.\n",
    "- **`np.trapz(y, x, dx)`**: Integrate along the given axis using the composite trapezoidal rule.\n",
    "- **`np.diff(a, n, axis)`**: Calculate the n-th discrete difference along the given axis.\n",
    "\n",
    "### Data Transformation\n",
    "- **`np.pad(array, pad_width, mode)`**: Pad an array.\n",
    "- **`np.roll(a, shift, axis)`**: Roll array elements along a given axis.\n",
    "\n",
    "These additional commands and concepts will further enhance your understanding and usage of NumPy in data science tasks."
   ]
  },
  {
   "cell_type": "code",
   "execution_count": null,
   "metadata": {},
   "outputs": [],
   "source": []
  }
 ],
 "metadata": {
  "kernelspec": {
   "display_name": "Python 3",
   "language": "python",
   "name": "python3"
  },
  "language_info": {
   "codemirror_mode": {
    "name": "ipython",
    "version": 3
   },
   "file_extension": ".py",
   "mimetype": "text/x-python",
   "name": "python",
   "nbconvert_exporter": "python",
   "pygments_lexer": "ipython3",
   "version": "3.10.12"
  }
 },
 "nbformat": 4,
 "nbformat_minor": 2
}
